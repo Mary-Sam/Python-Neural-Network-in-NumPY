{
  "nbformat": 4,
  "nbformat_minor": 0,
  "metadata": {
    "colab": {
      "name": "Example_MNIST.ipynb",
      "provenance": [],
      "collapsed_sections": []
    },
    "kernelspec": {
      "display_name": "Python 3",
      "language": "python",
      "name": "python3"
    },
    "language_info": {
      "codemirror_mode": {
        "name": "ipython",
        "version": 3
      },
      "file_extension": ".py",
      "mimetype": "text/x-python",
      "name": "python",
      "nbconvert_exporter": "python",
      "pygments_lexer": "ipython3",
      "version": "3.9.6"
    }
  },
  "cells": [
    {
      "cell_type": "markdown",
      "metadata": {
        "id": "mo4MwTZtocWC"
      },
      "source": [
        "# Backprop своими руками"
      ]
    },
    {
      "cell_type": "code",
      "metadata": {
        "id": "osDsI56TocWQ"
      },
      "source": [
        "import numpy as np\n",
        "import matplotlib.pyplot as plt\n",
        "%matplotlib inline\n",
        "import framework as fw\n",
        "import optim"
      ],
      "execution_count": 2,
      "outputs": []
    },
    {
      "cell_type": "markdown",
      "metadata": {
        "id": "rArLbzznocWU"
      },
      "source": [
        "---"
      ]
    },
    {
      "cell_type": "markdown",
      "metadata": {
        "id": "yMcWZrUPocWm"
      },
      "source": [
        "В следующих двух секциях — игрушечные примеры регрессии и классификации на синтезированных данных. "
      ]
    },
    {
      "cell_type": "markdown",
      "metadata": {
        "id": "MLPP2pyMocWn"
      },
      "source": [
        "# Линейная регрессия"
      ]
    },
    {
      "cell_type": "code",
      "metadata": {
        "id": "Jwvfj9tIdSrO"
      },
      "source": [
        "n = 2000\n",
        "\n",
        "X = np.random.randn(n, 10)\n",
        "true_w = np.random.randn(10, 1)\n",
        "Y = np.dot(X, true_w).reshape(n)# + np.random.randn()/5"
      ],
      "execution_count": 5,
      "outputs": []
    },
    {
      "cell_type": "markdown",
      "metadata": {
        "id": "gu4bulrKocWs"
      },
      "source": [
        "### Модель"
      ]
    },
    {
      "cell_type": "code",
      "metadata": {
        "id": "2bHZzM0XocWt"
      },
      "source": [
        "model = fw.Sequential(\n",
        "    fw.Linear(10, 1),\n",
        "    # fw.LeakyReLU(),\n",
        "    # fw.BatchNorm(8),\n",
        "    # fw.Dropout(0.2),\n",
        "    # fw.Linear(8, 1)\n",
        ")\n",
        "\n",
        "epochs = 35\n",
        "batch_size = 10\n",
        "learning_rate = 1e-1\n",
        "criterion = fw.MSE()\n",
        "optimizer = optim.Adam(model.parameters(), learning_rate)"
      ],
      "execution_count": 6,
      "outputs": []
    },
    {
      "cell_type": "markdown",
      "metadata": {
        "id": "G6cJy-nOocWy"
      },
      "source": [
        "### Обучение"
      ]
    },
    {
      "cell_type": "code",
      "metadata": {
        "colab": {
          "base_uri": "https://localhost:8080/",
          "height": 890
        },
        "id": "8NHCVPRiocW4",
        "outputId": "70ab9a41-ba81-409e-a32a-b7876bfeb5a3"
      },
      "source": [
        "history = []\n",
        "losses = []\n",
        "\n",
        "for i in range(epochs):\n",
        "    for x, y_true in optim.loader(X, Y, batch_size):\n",
        "        y_true = y_true.reshape(-1, 1)\n",
        "        y_pred = model.forward(x)\n",
        "        loss = criterion.forward(y_pred, y_true)\n",
        "        grad = criterion.backward(y_pred, y_true)\n",
        "        model.backward(x, grad)\n",
        "        # optim.SGD(model.parameters(),\n",
        "        #     model.grad_parameters(),\n",
        "        #     learning_rate)\n",
        "        optimizer.step(model.parameters(),\n",
        "            model.grad_parameters())\n",
        "        losses.append(loss)\n",
        "        \n",
        "    print('Epoch: {}, Loss: {}'.format(i, np.mean(losses)))\n",
        "    history.append(np.mean(losses))\n",
        "\n",
        "plt.title(\"Training loss\")\n",
        "plt.xlabel(\"iteration\")\n",
        "plt.ylabel(\"loss\")\n",
        "plt.plot(history, 'b')\n",
        "plt.show()"
      ],
      "execution_count": 7,
      "outputs": [
        {
          "output_type": "stream",
          "name": "stdout",
          "text": [
            "Epoch: 0, Loss: 0.43188197837331543\n",
            "Epoch: 1, Loss: 0.25922737113462296\n",
            "Epoch: 2, Loss: 0.20167176588813182\n",
            "Epoch: 3, Loss: 0.17263282865807375\n",
            "Epoch: 4, Loss: 0.15596105010930753\n",
            "Epoch: 5, Loss: 0.14580906294630158\n",
            "Epoch: 6, Loss: 0.13671470157512275\n",
            "Epoch: 7, Loss: 0.1311734523159791\n",
            "Epoch: 8, Loss: 0.12645192812462178\n",
            "Epoch: 9, Loss: 0.12307447553494384\n",
            "Epoch: 10, Loss: 0.11946189451441153\n",
            "Epoch: 11, Loss: 0.1169600986496306\n",
            "Epoch: 12, Loss: 0.11454128795859954\n",
            "Epoch: 13, Loss: 0.11274650495076177\n",
            "Epoch: 14, Loss: 0.11068937762050801\n",
            "Epoch: 15, Loss: 0.10923191092910788\n",
            "Epoch: 16, Loss: 0.10804735394549007\n",
            "Epoch: 17, Loss: 0.10652264910302586\n",
            "Epoch: 18, Loss: 0.10544785085533302\n",
            "Epoch: 19, Loss: 0.10444547813160918\n",
            "Epoch: 20, Loss: 0.10349290951628153\n",
            "Epoch: 21, Loss: 0.10287731272920425\n",
            "Epoch: 22, Loss: 0.10225018225841745\n",
            "Epoch: 23, Loss: 0.10140624096391979\n",
            "Epoch: 24, Loss: 0.10102130057806512\n",
            "Epoch: 25, Loss: 0.10064784620912677\n",
            "Epoch: 26, Loss: 0.10022079387009875\n",
            "Epoch: 27, Loss: 0.09968654572584715\n",
            "Epoch: 28, Loss: 0.09901617525877371\n",
            "Epoch: 29, Loss: 0.09869102929251096\n",
            "Epoch: 30, Loss: 0.09830820590451342\n",
            "Epoch: 31, Loss: 0.09796543003349387\n",
            "Epoch: 32, Loss: 0.09769446756915927\n",
            "Epoch: 33, Loss: 0.09717735919451433\n",
            "Epoch: 34, Loss: 0.09683283013254047\n"
          ]
        },
        {
          "output_type": "display_data",
          "data": {
            "image/png": "[encoded data removed]",
            "text/plain": [
              "<Figure size 432x288 with 1 Axes>"
            ]
          },
          "metadata": {
            "needs_background": "light"
          }
        }
      ]
    },
    {
      "cell_type": "markdown",
      "metadata": {
        "id": "33YJP2KeocW8"
      },
      "source": [
        "# Логистическая регрессия\n",
        "\n",
        "Тестирование классификации (`CrossEntropy` и `SoftMax`).\n",
        "\n",
        "Возьмем в качестве датасета точки из двух гауссиан на плоскости."
      ]
    },
    {
      "cell_type": "code",
      "metadata": {
        "colab": {
          "base_uri": "https://localhost:8080/",
          "height": 265
        },
        "id": "Vy-6IgGWocW9",
        "scrolled": false,
        "outputId": "5c43d958-0750-4b4a-d2ad-f1d669976362"
      },
      "source": [
        "n = 500\n",
        "\n",
        "X1 = np.random.randn(n, 2) + np.array([2, 2])\n",
        "X2 = np.random.randn(n, 2) + np.array([-2, -2])\n",
        "X = np.vstack([X1, X2])\n",
        "\n",
        "Y = np.concatenate([np.ones(n), np.zeros(n)])[:, None]\n",
        "Y = np.hstack([Y, 1-Y])\n",
        "\n",
        "plt.scatter(X[:,0], X[:,1], c=Y[:,0])\n",
        "plt.show()"
      ],
      "execution_count": 8,
      "outputs": [
        {
          "output_type": "display_data",
          "data": {
            "image/png": "[encoded data removed]",
            "text/plain": [
              "<Figure size 432x288 with 1 Axes>"
            ]
          },
          "metadata": {
            "needs_background": "light"
          }
        }
      ]
    },
    {
      "cell_type": "markdown",
      "metadata": {
        "id": "g6ga19VxocXB"
      },
      "source": [
        "Переменная`y` в формате one-hot: у каждого вектора все нули, кроме одной единицы.\n"
      ]
    },
    {
      "cell_type": "markdown",
      "metadata": {
        "id": "zNDguGQXocXD"
      },
      "source": [
        "### Модель\n"
      ]
    },
    {
      "cell_type": "code",
      "metadata": {
        "id": "fdKlc0EgocXE"
      },
      "source": [
        "model = fw.Sequential(\n",
        "    fw.Linear(2, 8),\n",
        "    fw.ReLU(),\n",
        "    # fw.BatchNorm(8),\n",
        "    fw.Linear(8, 2),\n",
        "    fw.SoftMax()\n",
        ")\n",
        "\n",
        "epochs = 50\n",
        "batch_size = 16\n",
        "learning_rate = 1e-1\n",
        "criterion = fw.CrossEntropy()\n",
        "optimizer = optim.Adam(model.parameters(), learning_rate)"
      ],
      "execution_count": 13,
      "outputs": []
    },
    {
      "cell_type": "markdown",
      "metadata": {
        "id": "NMoT8yXCocXI"
      },
      "source": [
        "### Обучение"
      ]
    },
    {
      "cell_type": "code",
      "metadata": {
        "colab": {
          "base_uri": "https://localhost:8080/",
          "height": 295
        },
        "id": "6RU473D9ocXN",
        "scrolled": false,
        "outputId": "a333a177-7abe-49da-efc2-60849f823a22"
      },
      "source": [
        "history = []\n",
        "losses = []\n",
        "for i in range(epochs):\n",
        "    for x, y_true in optim.loader(X, Y, batch_size):\n",
        "        y_pred = model.forward(x)\n",
        "        loss = criterion.forward(y_pred, y_true)\n",
        "        grad = criterion.backward(y_pred, y_true)\n",
        "        model.backward(x, grad)\n",
        "        optimizer.step(model.parameters(), model.grad_parameters())\n",
        "        losses.append(loss)\n",
        "    history.append(np.mean(losses))\n",
        "    \n",
        "plt.title(\"Training loss\")\n",
        "plt.xlabel(\"iteration\")\n",
        "plt.ylabel(\"loss\")\n",
        "plt.plot(history, 'b')\n",
        "plt.show()"
      ],
      "execution_count": 14,
      "outputs": [
        {
          "output_type": "display_data",
          "data": {
            "image/png": "[encoded data removed]",
            "text/plain": [
              "<Figure size 432x288 with 1 Axes>"
            ]
          },
          "metadata": {
            "needs_background": "light"
          }
        }
      ]
    },
    {
      "cell_type": "markdown",
      "metadata": {
        "id": "tmqQxNhFocXS"
      },
      "source": [
        "# MNIST"
      ]
    },
    {
      "cell_type": "code",
      "metadata": {
        "id": "BRYIbyvzocXT"
      },
      "source": [
        "import os\n",
        "from sklearn.datasets import fetch_openml\n",
        "\n",
        "if os.path.exists('mnist.npz'):\n",
        "    with np.load('mnist.npz', 'r', allow_pickle=True) as data:\n",
        "        X = data['X']\n",
        "        y = data['y']\n",
        "else:\n",
        "    mnist = fetch_openml('mnist_784', version=1, cache=True)\n",
        "    X = mnist.data / 255.0\n",
        "    y = mnist.target\n",
        "    np.savez('mnist.npz', X=X, y=y)"
      ],
      "execution_count": 15,
      "outputs": []
    },
    {
      "cell_type": "markdown",
      "metadata": {
        "id": "d726biJBocXj"
      },
      "source": [
        "Разделите датасет на train и validation."
      ]
    },
    {
      "cell_type": "code",
      "metadata": {
        "id": "dnskEfoZUU4a"
      },
      "source": [
        "indices = np.random.permutation(X.shape[0])\n",
        "train_size = int(X.shape[0]*0.9)\n",
        "train_idx, val_idx = indices[:train_size], indices[train_size:]\n",
        "\n",
        "X_train, Y_train = X[train_idx,:], y[train_idx]\n",
        "X_val, Y_val = X[val_idx,:], y[val_idx]"
      ],
      "execution_count": 16,
      "outputs": []
    },
    {
      "cell_type": "markdown",
      "metadata": {
        "id": "FPZV7JdYocXa"
      },
      "source": [
        "Переведём лейблы в one-hot"
      ]
    },
    {
      "cell_type": "code",
      "metadata": {
        "id": "A0n63WKSocXc"
      },
      "source": [
        "targets_train = np.array(list(map(int, Y_train)))\n",
        "one_hot_targets_train = np.eye(10, dtype=int)[targets_train]\n",
        "\n",
        "targets_val = np.array(list(map(int, Y_val)))\n",
        "one_hot_targets_val = np.eye(10, dtype=int)[targets_val]"
      ],
      "execution_count": 17,
      "outputs": []
    },
    {
      "cell_type": "markdown",
      "metadata": {
        "id": "yUhbn9QbW6YR"
      },
      "source": [
        "Определим функцию отрисовки кривых обучения и оценки точности работы модели"
      ]
    },
    {
      "cell_type": "code",
      "metadata": {
        "id": "eHroZqmGiWZF"
      },
      "source": [
        "def plot_training(train, val, text='Loss'):\n",
        "    plt.figure(figsize=(8,6))\n",
        "    plt.title(text, fontsize=14)\n",
        "    plt.xlabel('Epoch', fontsize=14)\n",
        "    plt.ylabel(text, fontsize=14)\n",
        "    plt.plot(train, label='Train {}'.format(text))\n",
        "    plt.plot(val, label='Val {}'.format(text))\n",
        "    plt.legend(fontsize=14)\n",
        "    plt.tick_params(axis='both', labelsize=14)\n",
        "    plt.xticks(range(len(train)))\n",
        "    # plt.xlim([0, 19])\n",
        "    plt.grid()\n",
        "    plt.show()"
      ],
      "execution_count": 18,
      "outputs": []
    },
    {
      "cell_type": "markdown",
      "metadata": {
        "id": "y50yqZVtXBaT"
      },
      "source": [
        "Определим функцию подсчёта точности работы модели"
      ]
    },
    {
      "cell_type": "code",
      "metadata": {
        "id": "0u_4I_nfXCE-"
      },
      "source": [
        "def accuracy_score(true_values, predictions):\n",
        "  return (true_values == predictions).sum() / len(true_values)"
      ],
      "execution_count": 19,
      "outputs": []
    },
    {
      "cell_type": "markdown",
      "metadata": {
        "id": "-MVhdUzvYkz4"
      },
      "source": [
        "Зададим архитектуру"
      ]
    },
    {
      "cell_type": "code",
      "metadata": {
        "id": "D90HaVUwpvIg"
      },
      "source": [
        "# model = fw.Sequential(\n",
        "#     fw.Linear(784, 512),\n",
        "#     fw.BatchNorm(512),\n",
        "#     fw.LeakyReLU(),\n",
        "#     fw.Linear(512, 128),\n",
        "#     fw.BatchNorm(128),\n",
        "#     fw.Linear(128, 10),\n",
        "#     fw.SoftMax(),\n",
        "# )\n",
        "\n",
        "model = fw.Sequential(\n",
        "    fw.Linear(784, 512),\n",
        "    fw.LeakyReLU(),\n",
        "    fw.BatchNorm(512),\n",
        "    fw.Linear(512, 512),\n",
        "    fw.LeakyReLU(),\n",
        "    fw.BatchNorm(512),\n",
        "    # fw.Linear(512, 128),\n",
        "    # fw.BatchNorm(512),\n",
        "    fw.Linear(512, 10),\n",
        "    fw.SoftMax(),\n",
        ")\n",
        "\n",
        "criterion = fw.CrossEntropy()\n",
        "batch_size = 128\n",
        "epoch = 15\n",
        "optimizer = optim.Adam(model.parameters(), lr=3e-4)"
      ],
      "execution_count": 45,
      "outputs": []
    },
    {
      "cell_type": "markdown",
      "metadata": {
        "id": "WjKfrok3royf"
      },
      "source": [
        "Цикл обучения"
      ]
    },
    {
      "cell_type": "code",
      "metadata": {
        "colab": {
          "base_uri": "https://localhost:8080/"
        },
        "id": "KsikV5mVpvIh",
        "outputId": "15658abc-d64b-4a2c-d9e1-9b3e663ec45b"
      },
      "source": [
        "train_losses = []\n",
        "val_losses = []\n",
        "train_accuracy = []\n",
        "val_accuracy = []\n",
        "for i in range(epoch):\n",
        "    acc_train = []\n",
        "    acc_own = []\n",
        "    acc_val = []\n",
        "    train_loss = []\n",
        "    val_loss = []\n",
        "    model.train()\n",
        "    for x, y_true in optim.loader(X_train, one_hot_targets_train, batch_size):\n",
        "        # y_true.reshape(-1, 1)\n",
        "        y_pred = model.forward(x)\n",
        "        y_pred_for_acc = np.argmax(y_pred, axis=1)\n",
        "        y_true_for_acc = np.argmax(y_true, axis=1)\n",
        "        loss_train = criterion.forward(y_pred, y_true)\n",
        "        acc_train.append(accuracy_score(y_true_for_acc, y_pred_for_acc))\n",
        "        # acc_own.append(accuracy_score2(y_true_for_acc, y_pred_for_acc))\n",
        "        grad = criterion.backward(y_pred, y_true)\n",
        "        model.backward(x, grad)\n",
        "        optimizer.step(model.parameters(), model.grad_parameters())\n",
        "        train_loss.append(loss_train)\n",
        "\n",
        "    if epoch % 1 == 0:\n",
        "        model.eval()\n",
        "        for x, y_true in optim.loader(X_val, one_hot_targets_val, batch_size):\n",
        "            y_pred = model.forward(x)\n",
        "            loss_val = criterion.forward(y_pred, y_true)\n",
        "            val_loss.append(loss_val)\n",
        "            y_pred_for_acc = np.argmax(y_pred, axis=1)\n",
        "            y_true_for_acc = np.argmax(y_true, axis=1)\n",
        "            acc_val.append(accuracy_score(y_true_for_acc, y_pred_for_acc))\n",
        "            \n",
        "        print('--Train--')\n",
        "        print('Epoch: {}, Accuracy: {}, Loss {}'.format(i, np.mean(acc_train), np.mean(train_loss)))\n",
        "        # print(np.mean(acc_own))\n",
        "        print('--Validation--')\n",
        "        print('Epoch: {}, Accuracy: {}, Loss {}'.format(i, np.mean(acc_val), np.mean(val_loss)))\n",
        "        print()\n",
        "        train_losses.append(np.mean(train_loss))\n",
        "        val_losses.append(np.mean(val_loss))\n",
        "        train_accuracy.append(np.mean(acc_train))\n",
        "        val_accuracy.append(np.mean(acc_val))"
      ],
      "execution_count": 46,
      "outputs": [
        {
          "output_type": "stream",
          "name": "stdout",
          "text": [
            "--Train--\n",
            "Epoch: 0, Accuracy: 0.9190014367816092, Loss 1.5480499424004226\n",
            "--Validation--\n",
            "Epoch: 0, Accuracy: 0.9532928719008265, Loss 1.5072730849689473\n",
            "\n",
            "--Train--\n",
            "Epoch: 1, Accuracy: 0.9595641058147397, Loss 1.5014789876704553\n",
            "--Validation--\n",
            "Epoch: 1, Accuracy: 0.9678719008264463, Loss 1.4930819845354233\n",
            "\n",
            "--Train--\n",
            "Epoch: 2, Accuracy: 0.9682851588911426, Loss 1.4927279089741825\n",
            "--Validation--\n",
            "Epoch: 2, Accuracy: 0.9721720041322314, Loss 1.4889764362688003\n",
            "\n",
            "--Train--\n",
            "Epoch: 3, Accuracy: 0.9732346602434077, Loss 1.487886159648706\n",
            "--Validation--\n",
            "Epoch: 3, Accuracy: 0.9743026859504132, Loss 1.4867967577753547\n",
            "\n",
            "--Train--\n",
            "Epoch: 4, Accuracy: 0.9757120520622042, Loss 1.4854271456864625\n",
            "--Validation--\n",
            "Epoch: 4, Accuracy: 0.9763558884297521, Loss 1.484793284330367\n",
            "\n",
            "--Train--\n",
            "Epoch: 5, Accuracy: 0.9773918187964842, Loss 1.48372251385258\n",
            "--Validation--\n",
            "Epoch: 5, Accuracy: 0.9763688016528926, Loss 1.484787226184143\n",
            "\n",
            "--Train--\n",
            "Epoch: 6, Accuracy: 0.9787810598377282, Loss 1.4823050570556662\n",
            "--Validation--\n",
            "Epoch: 6, Accuracy: 0.9774276859504132, Loss 1.4837236456314828\n",
            "\n",
            "--Train--\n",
            "Epoch: 7, Accuracy: 0.9799695740365112, Loss 1.4811592885997344\n",
            "--Validation--\n",
            "Epoch: 7, Accuracy: 0.9775051652892562, Loss 1.4836396583644982\n",
            "\n",
            "--Train--\n",
            "Epoch: 8, Accuracy: 0.9803604631507775, Loss 1.48075494702811\n",
            "--Validation--\n",
            "Epoch: 8, Accuracy: 0.9788481404958678, Loss 1.482276405073927\n",
            "\n",
            "--Train--\n",
            "Epoch: 9, Accuracy: 0.9815542596348884, Loss 1.4795814354696515\n",
            "--Validation--\n",
            "Epoch: 9, Accuracy: 0.9784090909090909, Loss 1.4826897809353623\n",
            "\n",
            "--Train--\n",
            "Epoch: 10, Accuracy: 0.9823413201487491, Loss 1.4788082430144724\n",
            "--Validation--\n",
            "Epoch: 10, Accuracy: 0.9809013429752067, Loss 1.4802182292009707\n",
            "\n",
            "--Train--\n",
            "Epoch: 11, Accuracy: 0.9827744675456389, Loss 1.4783917607475952\n",
            "--Validation--\n",
            "Epoch: 11, Accuracy: 0.979919938016529, Loss 1.4812557498888956\n",
            "\n",
            "--Train--\n",
            "Epoch: 12, Accuracy: 0.9828853955375254, Loss 1.4782459721179633\n",
            "--Validation--\n",
            "Epoch: 12, Accuracy: 0.9807851239669422, Loss 1.4802724277906274\n",
            "\n",
            "--Train--\n",
            "Epoch: 13, Accuracy: 0.9839418526031102, Loss 1.4771840609027698\n",
            "--Validation--\n",
            "Epoch: 13, Accuracy: 0.9806947314049587, Loss 1.4804642639478705\n",
            "\n",
            "--Train--\n",
            "Epoch: 14, Accuracy: 0.9842006845841785, Loss 1.4769507944862577\n",
            "--Validation--\n",
            "Epoch: 14, Accuracy: 0.981327479338843, Loss 1.4798279403836079\n",
            "\n"
          ]
        }
      ]
    },
    {
      "cell_type": "markdown",
      "metadata": {
        "id": "UCIMwKKyrs94"
      },
      "source": [
        "Выведем кривые обучения (потери по эпохам)"
      ]
    },
    {
      "cell_type": "code",
      "metadata": {
        "colab": {
          "base_uri": "https://localhost:8080/",
          "height": 413
        },
        "id": "WnLByaFxpvIh",
        "outputId": "6a1d7fc9-758d-47b1-8b92-f1d01e8cbce5"
      },
      "source": [
        "plot_training(train_losses, val_losses)"
      ],
      "execution_count": 47,
      "outputs": [
        {
          "output_type": "display_data",
          "data": {
            "image/png": "[encoded data removed]",
            "text/plain": [
              "<Figure size 576x432 with 1 Axes>"
            ]
          },
          "metadata": {
            "needs_background": "light"
          }
        }
      ]
    },
    {
      "cell_type": "markdown",
      "metadata": {
        "id": "FmKKTMrorxTo"
      },
      "source": [
        "Выведем точность по эпохам"
      ]
    },
    {
      "cell_type": "code",
      "metadata": {
        "colab": {
          "base_uri": "https://localhost:8080/",
          "height": 413
        },
        "id": "STCHPLxhpvIh",
        "outputId": "ce20a3d2-7e9b-474d-acef-9709708eb70b"
      },
      "source": [
        "plot_training(train_accuracy, val_accuracy, text='Accuracy')"
      ],
      "execution_count": 48,
      "outputs": [
        {
          "output_type": "display_data",
          "data": {
            "image/png": "[encoded data removed]",
            "text/plain": [
              "<Figure size 576x432 with 1 Axes>"
            ]
          },
          "metadata": {
            "needs_background": "light"
          }
        }
      ]
    }
  ]
}